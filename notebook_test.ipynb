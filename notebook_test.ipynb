{
 "cells": [
  {
   "cell_type": "markdown",
   "metadata": {},
   "source": [
    "## Data Pipeline with Financial Data\n",
    "\n",
    "This is intended to be an end-to-end data pipeline built over synthetic data generated using the [Faker](https://fakerjs.dev/) Python module. Then the architecture of the solution will include AWS services for storage (Amazon S3). The data will be persisted in a relational database using the Airbyte MotherDuck connector."
   ]
  },
  {
   "cell_type": "markdown",
   "metadata": {},
   "source": [
    "### Generating data for datapipeline"
   ]
  },
  {
   "cell_type": "code",
   "execution_count": 1,
   "metadata": {},
   "outputs": [],
   "source": [
    "from utils.load_to_s3 import upload_files\n",
    "from utils.read_from_s3 import *\n",
    "from print_versions import print_versions"
   ]
  },
  {
   "cell_type": "code",
   "execution_count": 4,
   "metadata": {},
   "outputs": [
    {
     "name": "stdout",
     "output_type": "stream",
     "text": [
      "pandas==2.0.3\n"
     ]
    }
   ],
   "source": [
    "print_versions(globals())"
   ]
  },
  {
   "cell_type": "code",
   "execution_count": 2,
   "metadata": {},
   "outputs": [
    {
     "name": "stdout",
     "output_type": "stream",
     "text": [
      "Attempting to access: s3://financial-data1215/financial_data/2024-12-18/accounts.csv\n",
      "<class 'pandas.core.frame.DataFrame'>\n",
      "RangeIndex: 221 entries, 0 to 220\n",
      "Data columns (total 5 columns):\n",
      " #   Column        Non-Null Count  Dtype \n",
      "---  ------        --------------  ----- \n",
      " 0   account_id    221 non-null    object\n",
      " 1   customer_id   221 non-null    object\n",
      " 2   account_type  221 non-null    object\n",
      " 3   risk_profile  221 non-null    object\n",
      " 4   opening_date  221 non-null    object\n",
      "dtypes: object(5)\n",
      "memory usage: 8.8+ KB\n"
     ]
    }
   ],
   "source": [
    "date = '2024-12-18'\n",
    "\n",
    "# Read accounts data from December 19\n",
    "accounts_df = read_csv_from_s3(date, 'accounts')\n",
    "accounts_df.info()"
   ]
  },
  {
   "cell_type": "code",
   "execution_count": 3,
   "metadata": {},
   "outputs": [
    {
     "name": "stdout",
     "output_type": "stream",
     "text": [
      "Attempting to access: s3://financial-data1215/financial_data/2024-12-18/accounts.csv\n",
      "Attempting to access: s3://financial-data1215/financial_data/2024-12-18/customers.csv\n",
      "Attempting to access: s3://financial-data1215/financial_data/2024-12-18/investments.csv\n",
      "Attempting to access: s3://financial-data1215/financial_data/2024-12-18/transactions.csv\n"
     ]
    },
    {
     "data": {
      "text/plain": [
       "{'accounts': 221, 'customers': 107, 'investments': 362, 'transactions': 238}"
      ]
     },
     "execution_count": 3,
     "metadata": {},
     "output_type": "execute_result"
    }
   ],
   "source": [
    "count_records_by_file(date)"
   ]
  },
  {
   "cell_type": "code",
   "execution_count": 4,
   "metadata": {},
   "outputs": [
    {
     "name": "stdout",
     "output_type": "stream",
     "text": [
      "\n",
      "Analysis for 2024-12-18:\n",
      "--------------------------------------------------\n",
      "File Type    |    Records |  Columns | Memory Usage\n",
      "--------------------------------------------------\n",
      "Attempting to access: s3://financial-data1215/financial_data/2024-12-18/accounts.csv\n",
      "accounts     |        221 |        5 |     83.10 KB\n",
      "Attempting to access: s3://financial-data1215/financial_data/2024-12-18/customers.csv\n",
      "customers    |        107 |        8 |     41.32 KB\n",
      "Attempting to access: s3://financial-data1215/financial_data/2024-12-18/investments.csv\n",
      "investments  |        362 |        7 |    121.67 KB\n",
      "Attempting to access: s3://financial-data1215/financial_data/2024-12-18/transactions.csv\n",
      "transactions |        238 |        6 |     90.27 KB\n",
      "--------------------------------------------------\n",
      "Total Records: 928\n"
     ]
    }
   ],
   "source": [
    "analyze_folder_contents(date)"
   ]
  },
  {
   "cell_type": "code",
   "execution_count": null,
   "metadata": {},
   "outputs": [],
   "source": []
  }
 ],
 "metadata": {
  "kernelspec": {
   "display_name": "data-wrangling",
   "language": "python",
   "name": "python3"
  },
  "language_info": {
   "codemirror_mode": {
    "name": "ipython",
    "version": 3
   },
   "file_extension": ".py",
   "mimetype": "text/x-python",
   "name": "python",
   "nbconvert_exporter": "python",
   "pygments_lexer": "ipython3",
   "version": "3.11.4"
  }
 },
 "nbformat": 4,
 "nbformat_minor": 4
}
