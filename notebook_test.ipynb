{
 "cells": [
  {
   "cell_type": "markdown",
   "metadata": {},
   "source": [
    "## Data Pipeline with Financial Data\n",
    "\n",
    "This is intended to be an end-to-end data pipeline built over synthetic data generated using the [Faker](https://fakerjs.dev/) Python module. Then the architecture of the solution will include AWS services for storage (Amazon S3). The data will be persisted in a relational database using the Airbyte MotherDuck connector."
   ]
  },
  {
   "cell_type": "code",
   "execution_count": null,
   "metadata": {},
   "outputs": [],
   "source": []
  },
  {
   "cell_type": "markdown",
   "metadata": {},
   "source": [
    "### Generating data for datapipeline"
   ]
  },
  {
   "cell_type": "code",
   "execution_count": 1,
   "metadata": {},
   "outputs": [],
   "source": [
    "import faker\n",
    "from faker.providers import BaseProvider\n",
    "import pandas as pd\n",
    "import random\n",
    "from datetime import timedelta\n",
    "from utils.data_generator import generate_datasets\n",
    "from print_versions import print_versions\n",
    "\n",
    "output_folder = 'data'"
   ]
  },
  {
   "cell_type": "code",
   "execution_count": 2,
   "metadata": {},
   "outputs": [
    {
     "name": "stdout",
     "output_type": "stream",
     "text": [
      "faker==19.6.2\n",
      "pandas==2.0.3\n"
     ]
    }
   ],
   "source": [
    "print_versions(globals())"
   ]
  },
  {
   "cell_type": "code",
   "execution_count": 2,
   "metadata": {},
   "outputs": [
    {
     "name": "stdout",
     "output_type": "stream",
     "text": [
      "Customers Dataset:\n",
      "<class 'pandas.core.frame.DataFrame'>\n",
      "RangeIndex: 500 entries, 0 to 499\n",
      "Data columns (total 8 columns):\n",
      " #   Column          Non-Null Count  Dtype  \n",
      "---  ------          --------------  -----  \n",
      " 0   customer_id     500 non-null    object \n",
      " 1   customer_name   500 non-null    object \n",
      " 2   customer_email  500 non-null    object \n",
      " 3   customer_age    500 non-null    int64  \n",
      " 4   annual_income   500 non-null    float64\n",
      " 5   credit_score    500 non-null    int64  \n",
      " 6   country         500 non-null    object \n",
      " 7   city            500 non-null    object \n",
      "dtypes: float64(1), int64(2), object(5)\n",
      "memory usage: 31.4+ KB\n",
      "None\n",
      "\n",
      "Accounts Dataset:\n",
      "<class 'pandas.core.frame.DataFrame'>\n",
      "RangeIndex: 1015 entries, 0 to 1014\n",
      "Data columns (total 5 columns):\n",
      " #   Column        Non-Null Count  Dtype \n",
      "---  ------        --------------  ----- \n",
      " 0   account_id    1015 non-null   object\n",
      " 1   customer_id   1015 non-null   object\n",
      " 2   account_type  1015 non-null   object\n",
      " 3   risk_profile  1015 non-null   object\n",
      " 4   opening_date  1015 non-null   object\n",
      "dtypes: object(5)\n",
      "memory usage: 39.8+ KB\n",
      "None\n",
      "\n",
      "Transactions Dataset:\n",
      "<class 'pandas.core.frame.DataFrame'>\n",
      "RangeIndex: 5000 entries, 0 to 4999\n",
      "Data columns (total 6 columns):\n",
      " #   Column              Non-Null Count  Dtype  \n",
      "---  ------              --------------  -----  \n",
      " 0   transaction_id      5000 non-null   object \n",
      " 1   account_id          5000 non-null   object \n",
      " 2   transaction_type    5000 non-null   object \n",
      " 3   transaction_amount  5000 non-null   float64\n",
      " 4   currency            5000 non-null   object \n",
      " 5   transaction_date    5000 non-null   object \n",
      "dtypes: float64(1), object(5)\n",
      "memory usage: 234.5+ KB\n",
      "None\n",
      "\n",
      "Investments Dataset:\n",
      "<class 'pandas.core.frame.DataFrame'>\n",
      "RangeIndex: 1514 entries, 0 to 1513\n",
      "Data columns (total 7 columns):\n",
      " #   Column             Non-Null Count  Dtype  \n",
      "---  ------             --------------  -----  \n",
      " 0   investment_id      1514 non-null   object \n",
      " 1   account_id         1514 non-null   object \n",
      " 2   investment_type    1514 non-null   object \n",
      " 3   investment_amount  1514 non-null   float64\n",
      " 4   market_sector      1514 non-null   object \n",
      " 5   interest_rate      1514 non-null   float64\n",
      " 6   return_percentage  1514 non-null   float64\n",
      "dtypes: float64(3), object(4)\n",
      "memory usage: 82.9+ KB\n",
      "None\n"
     ]
    }
   ],
   "source": [
    "# Generating tables datasets for Customers, Accounts, Transactions and Investments\n",
    "generate_datasets(500,5000,output_folder)"
   ]
  },
  {
   "cell_type": "code",
   "execution_count": null,
   "metadata": {},
   "outputs": [],
   "source": []
  }
 ],
 "metadata": {
  "kernelspec": {
   "display_name": "data-wrangling",
   "language": "python",
   "name": "python3"
  },
  "language_info": {
   "codemirror_mode": {
    "name": "ipython",
    "version": 3
   },
   "file_extension": ".py",
   "mimetype": "text/x-python",
   "name": "python",
   "nbconvert_exporter": "python",
   "pygments_lexer": "ipython3",
   "version": "3.11.4"
  }
 },
 "nbformat": 4,
 "nbformat_minor": 2
}
