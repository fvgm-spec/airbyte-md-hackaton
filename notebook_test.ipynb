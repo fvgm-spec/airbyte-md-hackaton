{
 "cells": [
  {
   "cell_type": "markdown",
   "metadata": {},
   "source": [
    "## Data Pipeline with Financial Data\n",
    "\n",
    "This is intended to be an end-to-end data pipeline built over synthetic data generated using the [Faker](https://fakerjs.dev/) Python module. Then the architecture of the solution will include AWS services for storage (Amazon S3). The data will be persisted in a relational database using the Airbyte MotherDuck connector."
   ]
  },
  {
   "cell_type": "markdown",
   "metadata": {},
   "source": [
    "### Generating data for datapipeline"
   ]
  },
  {
   "cell_type": "code",
   "execution_count": 2,
   "metadata": {},
   "outputs": [],
   "source": [
    "from utils.load_to_s3 import upload_files\n",
    "from utils.read_from_s3 import *\n",
    "from print_versions import print_versions"
   ]
  },
  {
   "cell_type": "code",
   "execution_count": 4,
   "metadata": {},
   "outputs": [
    {
     "name": "stdout",
     "output_type": "stream",
     "text": [
      "pandas==2.0.3\n"
     ]
    }
   ],
   "source": [
    "print_versions(globals())"
   ]
  },
  {
   "cell_type": "code",
   "execution_count": 10,
   "metadata": {},
   "outputs": [
    {
     "name": "stdout",
     "output_type": "stream",
     "text": [
      "Attempting to access: s3://financial-data1215/financial_data/2024-12-25/customers.csv\n",
      "<class 'pandas.core.frame.DataFrame'>\n",
      "RangeIndex: 149 entries, 0 to 148\n",
      "Data columns (total 8 columns):\n",
      " #   Column          Non-Null Count  Dtype  \n",
      "---  ------          --------------  -----  \n",
      " 0   customer_id     149 non-null    object \n",
      " 1   customer_name   149 non-null    object \n",
      " 2   customer_email  149 non-null    object \n",
      " 3   customer_age    149 non-null    int64  \n",
      " 4   annual_income   149 non-null    float64\n",
      " 5   credit_score    149 non-null    int64  \n",
      " 6   country         149 non-null    object \n",
      " 7   city            149 non-null    object \n",
      "dtypes: float64(1), int64(2), object(5)\n",
      "memory usage: 9.4+ KB\n"
     ]
    }
   ],
   "source": [
    "date = '2024-12-25'\n",
    "table_name = 'customers'\n",
    "\n",
    "# Read data from generated data\n",
    "df_stream = read_csv_from_s3(date, table_name)\n",
    "df_stream.info()"
   ]
  },
  {
   "cell_type": "code",
   "execution_count": 11,
   "metadata": {},
   "outputs": [
    {
     "data": {
      "text/plain": [
       "969"
      ]
     },
     "execution_count": 11,
     "metadata": {},
     "output_type": "execute_result"
    }
   ],
   "source": [
    "107+147+114+112+105+103+132+149"
   ]
  },
  {
   "cell_type": "code",
   "execution_count": 8,
   "metadata": {},
   "outputs": [
    {
     "name": "stdout",
     "output_type": "stream",
     "text": [
      "Attempting to access: s3://financial-data1215/financial_data/2024-12-19/accounts.csv\n",
      "Attempting to access: s3://financial-data1215/financial_data/2024-12-19/customers.csv\n",
      "Attempting to access: s3://financial-data1215/financial_data/2024-12-19/investments.csv\n",
      "Attempting to access: s3://financial-data1215/financial_data/2024-12-19/transactions.csv\n"
     ]
    },
    {
     "data": {
      "text/plain": [
       "{'accounts': 285, 'customers': 147, 'investments': 421, 'transactions': 210}"
      ]
     },
     "execution_count": 8,
     "metadata": {},
     "output_type": "execute_result"
    }
   ],
   "source": [
    "count_records_by_file(date)"
   ]
  },
  {
   "cell_type": "code",
   "execution_count": 9,
   "metadata": {},
   "outputs": [
    {
     "name": "stdout",
     "output_type": "stream",
     "text": [
      "\n",
      "Analysis for 2024-12-19:\n",
      "--------------------------------------------------\n",
      "File Type    |    Records |  Columns | Memory Usage\n",
      "--------------------------------------------------\n",
      "Attempting to access: s3://financial-data1215/financial_data/2024-12-19/accounts.csv\n",
      "accounts     |        285 |        5 |    107.16 KB\n",
      "Attempting to access: s3://financial-data1215/financial_data/2024-12-19/customers.csv\n",
      "customers    |        147 |        8 |     56.80 KB\n",
      "Attempting to access: s3://financial-data1215/financial_data/2024-12-19/investments.csv\n",
      "investments  |        421 |        7 |    141.78 KB\n",
      "Attempting to access: s3://financial-data1215/financial_data/2024-12-19/transactions.csv\n",
      "transactions |        210 |        6 |     79.57 KB\n",
      "--------------------------------------------------\n",
      "Total Records: 1,063\n"
     ]
    }
   ],
   "source": [
    "analyze_folder_contents(date)"
   ]
  },
  {
   "cell_type": "code",
   "execution_count": null,
   "metadata": {},
   "outputs": [],
   "source": []
  }
 ],
 "metadata": {
  "kernelspec": {
   "display_name": "data-wrangling",
   "language": "python",
   "name": "python3"
  },
  "language_info": {
   "codemirror_mode": {
    "name": "ipython",
    "version": 3
   },
   "file_extension": ".py",
   "mimetype": "text/x-python",
   "name": "python",
   "nbconvert_exporter": "python",
   "pygments_lexer": "ipython3",
   "version": "3.11.4"
  }
 },
 "nbformat": 4,
 "nbformat_minor": 4
}
